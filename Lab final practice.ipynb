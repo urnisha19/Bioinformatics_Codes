{
 "cells": [
  {
   "cell_type": "markdown",
   "metadata": {},
   "source": [
    "### BA1A: Compute the Number of Times a Pattern Appears in a Text\n"
   ]
  },
  {
   "cell_type": "code",
   "execution_count": 22,
   "metadata": {},
   "outputs": [],
   "source": [
    "def PatternCount(Text, Pattern):\n",
    "    count = 0\n",
    "    for i in range(len(Text)-len(Pattern) + 1):\n",
    "        if Text[i:i+len(Pattern)] == Pattern:\n",
    "            count = count + 1\n",
    "    return count\n",
    "\n",
    "Text = input(\"Text: \")  # Sample input: CGATATATCCATAG\n",
    "Pattern = input(\"Pattern: \")  # Sample input: ATA\n",
    "result = PatternCount(Text, Pattern)  # Sample Output: 3\n",
    "print(result)\n"
   ]
  },
  {
   "cell_type": "markdown",
   "metadata": {},
   "source": [
    "### BA1B: Find the Most Frequent Words in a String\n"
   ]
  },
  {
   "cell_type": "code",
   "execution_count": 23,
   "metadata": {},
   "outputs": [
    {
     "name": "stdout",
     "output_type": "stream",
     "text": [
      "GCAT CATG\n"
     ]
    }
   ],
   "source": [
    "def FrequentWord(Text, k):\n",
    "    pattern_dict = {}\n",
    "\n",
    "    for i in range(len(Text)-k+1):\n",
    "        pattern = Text[i:i+k]\n",
    "        if pattern in pattern_dict:\n",
    "            pattern_dict[pattern] += 1\n",
    "        else:\n",
    "            pattern_dict[pattern] = 1\n",
    "    max_value = max(pattern_dict.values())\n",
    "    max_pattern = [key for key, value in pattern_dict.items() if value == max_value]\n",
    "    return \" \".join(max_pattern)\n",
    "\n",
    "Text = input(\"Text: \")  # ACGTTGCATGTCGCATGATGCATGAGAGCT\n",
    "k = int(input(\"K-mer k: \"))  # 4\n",
    "result = FrequentWord(Text, k)  # GCAT CATG\n",
    "print(result)"
   ]
  },
  {
   "cell_type": "markdown",
   "metadata": {},
   "source": [
    "### BA1C: Find the Reverse Complement of a String\n"
   ]
  },
  {
   "cell_type": "code",
   "execution_count": 18,
   "metadata": {},
   "outputs": [
    {
     "name": "stdout",
     "output_type": "stream",
     "text": [
      "ACCGGGTTTT\n"
     ]
    }
   ],
   "source": [
    "def ReverseComplement(Text):\n",
    "    complimentString = '' \n",
    "    for i in Text:  \n",
    "        if i == 'A':\n",
    "            complimentString += 'T'\n",
    "        elif i == 'T':\n",
    "            complimentString += 'A'\n",
    "        elif i == 'G':\n",
    "            complimentString += 'C'\n",
    "        else:\n",
    "            complimentString += 'G'\n",
    "    reversedCompliment = complimentString[::-1]\n",
    "    return reversedCompliment\n",
    "\n",
    "Text = input() #AAAACCCGGT\n",
    "result = ReverseComplement(Text) #ACCGGGTTTT\n",
    "print(result)"
   ]
  },
  {
   "cell_type": "markdown",
   "metadata": {},
   "source": [
    "### BA1D: Find All Occurrences of a Pattern in a String/ PatternMatching"
   ]
  },
  {
   "cell_type": "code",
   "execution_count": 19,
   "metadata": {},
   "outputs": [
    {
     "name": "stdout",
     "output_type": "stream",
     "text": [
      "1 3 9 "
     ]
    }
   ],
   "source": [
    "def PatternMatching(Pattern, Genome):\n",
    "    for i in range(len(Genome) - len(Pattern) + 1):\n",
    "        if Genome[i:i + len(Pattern)] == Pattern:\n",
    "            print(i, end=\" \")\n",
    "\n",
    "Pattern = input() #ATAT\n",
    "Genome = input() #GATATATGCATATACTT\n",
    "result = PatternMatching(Pattern, Genome) # 1 3 9"
   ]
  },
  {
   "cell_type": "markdown",
   "metadata": {},
   "source": [
    "### BA1E: Find Patterns Forming Clumps in a String"
   ]
  },
  {
   "cell_type": "code",
   "execution_count": 25,
   "metadata": {},
   "outputs": [
    {
     "name": "stdout",
     "output_type": "stream",
     "text": [
      "CGACA AATGT GAAGA\n"
     ]
    }
   ],
   "source": [
    "def clump_finding(genome, k, L, t):\n",
    "    pattern_forming_clump = []\n",
    "    \n",
    "    for i in range(len(genome)-L+1):\n",
    "        for j in range(i, i+L-k):  \n",
    "            if genome[i:i+L].count(genome[j:j+k]) >= t:\n",
    "                pattern_forming_clump.append(genome[j:j+k])\n",
    "    pattern_forming_clump = list(set(pattern_forming_clump))\n",
    "    return \" \".join(pattern_forming_clump)   \n",
    "\n",
    "genome = input() #CGGACTCGACAGATGTGAAGAAATGTGAAGACTGAGTGAAGAGAAGAGGAAACACGACACGACATTGCGACATAATGTACGAATGTAATGTGCCTATGGC\n",
    "k = int(input()) #5\n",
    "L = int(input()) #75\n",
    "t = int(input()) #4\n",
    "result = clump_finding(genome, k, L, t) #CGACA GAAGA AATGT\n",
    "print(result)"
   ]
  },
  {
   "cell_type": "markdown",
   "metadata": {},
   "source": [
    "### BA1F: Find a Position in a Genome Minimizing the Skew"
   ]
  },
  {
   "cell_type": "code",
   "execution_count": 26,
   "metadata": {},
   "outputs": [
    {
     "name": "stdout",
     "output_type": "stream",
     "text": [
      "53 97 "
     ]
    }
   ],
   "source": [
    "def minSkew(genome):\n",
    "  count = 0\n",
    "  skewCountList = []\n",
    "  skewCountList.append(count) # initial value 0\n",
    "  \n",
    "  for i in range(len(genome)):\n",
    "    if genome[i] == 'T' or genome[i] == 'A':\n",
    "      skewCountList.append(count)\n",
    "      continue\n",
    "    elif genome[i] == 'G':\n",
    "          count+=1\n",
    "    elif genome[i] == 'C':\n",
    "          count-=1\n",
    "    skewCountList.append(count)\n",
    "    \n",
    "  min_val = min(skewCountList)\n",
    "  for i in range(len(skewCountList)):\n",
    "    if skewCountList[i] == min_val:\n",
    "      print(i, end = \" \")\n",
    "\n",
    "genome = input(\"Enter the genome: \") #CCTATCGGTGGATTAGCATGTCCCTGTACGTTTCGCCGCGAACTAGTTCACACGGCTTGATGGCAAATGGTTTTTCCGGCGACCGTAATCGTCCACCGAG\n",
    "result= minSkew(genome) #53 97"
   ]
  },
  {
   "cell_type": "markdown",
   "metadata": {},
   "source": [
    "### BA1G: Compute the Hamming Distance Between Two Strings"
   ]
  },
  {
   "cell_type": "code",
   "execution_count": 27,
   "metadata": {},
   "outputs": [
    {
     "name": "stdout",
     "output_type": "stream",
     "text": [
      "3\n"
     ]
    }
   ],
   "source": [
    "def hamming_distance(string1, string2):\n",
    "    mismatch_count = 0\n",
    "\n",
    "    for i in range(len(string1)): \n",
    "        if string1[i] != string2[i]:\n",
    "            mismatch_count += 1\n",
    "    return mismatch_count\n",
    "\n",
    "string1 = input() #GGGCCGTTGGT\n",
    "string2 = input() #GGACCGTTGAC\n",
    "result = hamming_distance(string1, string2) #3\n",
    "print(result)"
   ]
  },
  {
   "cell_type": "markdown",
   "metadata": {},
   "source": [
    "### BA1H: Find All Approximate Occurrences of a Pattern in a String"
   ]
  },
  {
   "cell_type": "code",
   "execution_count": 28,
   "metadata": {},
   "outputs": [
    {
     "name": "stdout",
     "output_type": "stream",
     "text": [
      "6 7 26 27 78 "
     ]
    }
   ],
   "source": [
    "def hamming_distance(pattern, text):\n",
    "    mismatch_count = 0\n",
    "\n",
    "    for i in range(len(text)):  \n",
    "        if text[i] != pattern[i]:\n",
    "            mismatch_count += 1\n",
    "    return mismatch_count\n",
    "\n",
    "def ApproximatePatternMatching(pattern, text, d):\n",
    "    k = len(pattern)\n",
    "    positions = []\n",
    "    for i in range(len(text)-k):\n",
    "        if hamming_distance(text[i:i+k], pattern) <= d:\n",
    "            positions.append(i)\n",
    "            print(i, end=\" \")\n",
    "\n",
    "pattern = input() #ATTCTGGA\n",
    "text = input() #CGCCCGAATCCAGAACGCATTCCCATATTTCGGGACCACTGGCCTCCACGGTACGGACGTCAATCAAATGCCTAGCGGCTTGTGGTTTCTCCTACGCTCC\n",
    "d = int(input()) #3\n",
    "ApproximatePatternMatching(pattern, text, d) #6 7 26 27 78"
   ]
  }
 ],
 "metadata": {
  "kernelspec": {
   "display_name": "Python 3.10.8 64-bit (microsoft store)",
   "language": "python",
   "name": "python3"
  },
  "language_info": {
   "codemirror_mode": {
    "name": "ipython",
    "version": 3
   },
   "file_extension": ".py",
   "mimetype": "text/x-python",
   "name": "python",
   "nbconvert_exporter": "python",
   "pygments_lexer": "ipython3",
   "version": "3.10.8"
  },
  "orig_nbformat": 4,
  "vscode": {
   "interpreter": {
    "hash": "486e0d5a79acdbfffd563ee7a67a93a5017bd2a4f66495483a69f0245c8a4a6c"
   }
  }
 },
 "nbformat": 4,
 "nbformat_minor": 2
}
