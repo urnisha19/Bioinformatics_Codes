{
 "cells": [
  {
   "cell_type": "markdown",
   "metadata": {},
   "source": [
    "### BA1A: Compute the Number of Times a Pattern Appears in a Text"
   ]
  },
  {
   "cell_type": "code",
   "execution_count": 1,
   "metadata": {},
   "outputs": [
    {
     "name": "stdout",
     "output_type": "stream",
     "text": [
      "3\n"
     ]
    }
   ],
   "source": [
    "def PatternCount(Text,Pattern):\n",
    "    count = 0\n",
    "    k = len(Pattern)\n",
    "    for i in range(len(Text)-k+1):\n",
    "        textPattern = Text[i:i+k]\n",
    "        if textPattern == Pattern:\n",
    "            count += 1\n",
    "    return count\n",
    "Text = input(\"Text: \")  # Sample input: CGATATATCCATAG\n",
    "Pattern = input(\"Pattern: \")  # Sample input: ATA\n",
    "result = PatternCount(Text, Pattern)  # Sample Output: 3\n",
    "print(result)"
   ]
  },
  {
   "cell_type": "markdown",
   "metadata": {},
   "source": [
    "### BA1B: Find the Most Frequent Words in a String"
   ]
  },
  {
   "cell_type": "code",
   "execution_count": 4,
   "metadata": {},
   "outputs": [
    {
     "name": "stdout",
     "output_type": "stream",
     "text": [
      "GCAT CATG\n"
     ]
    }
   ],
   "source": [
    "def FrequentWord(Text, k):\n",
    "    pattern_dict = {}\n",
    "    \n",
    "    for i in range(len(Text)-k+1):\n",
    "        patternText = Text[i:i+k]\n",
    "        if patternText in pattern_dict:\n",
    "            pattern_dict[patternText] += 1\n",
    "        else:\n",
    "            pattern_dict[patternText] = 1\n",
    "    max_value = max(pattern_dict.values())\n",
    "    max_pattern = [key for key, value in pattern_dict.items() if value == max_value]\n",
    "    return \" \".join(max_pattern)\n",
    "\n",
    "Text = input(\"Text: \")  # ACGTTGCATGTCGCATGATGCATGAGAGCT\n",
    "k = int(input(\"K-mer k: \"))  # 4\n",
    "result = FrequentWord(Text, k)  # GCAT CATG\n",
    "print(result)"
   ]
  },
  {
   "cell_type": "markdown",
   "metadata": {},
   "source": [
    "### BA1C: Find the Reverse Complement of a String"
   ]
  },
  {
   "cell_type": "code",
   "execution_count": 5,
   "metadata": {},
   "outputs": [
    {
     "name": "stdout",
     "output_type": "stream",
     "text": [
      "ACCGGGTTTT\n"
     ]
    }
   ],
   "source": [
    "def ReverseComplement(Text):\n",
    "    complement = \"\"\n",
    "    for i in Text:\n",
    "        if i == \"A\":\n",
    "            complement += \"T\"\n",
    "        elif i == \"T\":\n",
    "            complement += \"A\"\n",
    "        elif i == \"C\":\n",
    "            complement +=\"G\"\n",
    "        elif i == \"G\":\n",
    "            complement += \"C\"\n",
    "    reverse = complement[::-1]\n",
    "    return reverse\n",
    "\n",
    "Text = input() #AAAACCCGGT\n",
    "result = ReverseComplement(Text) #ACCGGGTTTT\n",
    "print(result)"
   ]
  },
  {
   "cell_type": "markdown",
   "metadata": {},
   "source": [
    "### BA1D: Find All Occurrences of a Pattern in a String/ PatternMatching"
   ]
  },
  {
   "cell_type": "code",
   "execution_count": 6,
   "metadata": {},
   "outputs": [
    {
     "name": "stdout",
     "output_type": "stream",
     "text": [
      "1 3 9 "
     ]
    }
   ],
   "source": [
    "def patternOccurrence(Pattern, Text):\n",
    "    k = len(Pattern)\n",
    "    for i in range(len(Text)-k+1):\n",
    "        text_pattern = Text[i:i+k]\n",
    "        if text_pattern == Pattern:\n",
    "            print(i, end=\" \")\n",
    "            \n",
    "Pattern = input() # ATAT\n",
    "Text = input() # GATATATGCATATACTT\n",
    "result = patternOccurrence(Pattern, Text) #1 3 9"
   ]
  },
  {
   "cell_type": "markdown",
   "metadata": {},
   "source": [
    "### BA1E: Find Patterns Forming Clumps in a String"
   ]
  },
  {
   "cell_type": "code",
   "execution_count": 7,
   "metadata": {},
   "outputs": [
    {
     "name": "stdout",
     "output_type": "stream",
     "text": [
      "AATGT CGACA GAAGA\n"
     ]
    }
   ],
   "source": [
    "def clumpFinding(Text, k, L, t):\n",
    "    clump = []\n",
    "    for i in range(len(Text)-L+1):\n",
    "        for j in range(i, i+L-k):\n",
    "            if Text[i:i+L].count(Text[i:i+k]) >= t:\n",
    "                clump.append(Text[i:i+k])\n",
    "    clump = list(set(clump))\n",
    "    return \" \".join(clump)\n",
    "\n",
    "Text = input() #CGGACTCGACAGATGTGAAGAAATGTGAAGACTGAGTGAAGAGAAGAGGAAACACGACACGACATTGCGACATAATGTACGAATGTAATGTGCCTATGGC\n",
    "k = int(input()) #5\n",
    "l= int(input()) #75\n",
    "t= int(input()) #4\n",
    "result = clumpFinding(Text, k, l, t) #CGACA GAAGA AATGT\n",
    "print(result) "
   ]
  },
  {
   "cell_type": "markdown",
   "metadata": {},
   "source": [
    "### BA1F: Find a Position in a Genome Minimizing the Skew"
   ]
  },
  {
   "cell_type": "code",
   "execution_count": 8,
   "metadata": {},
   "outputs": [
    {
     "name": "stdout",
     "output_type": "stream",
     "text": [
      "53 97 "
     ]
    }
   ],
   "source": [
    "def minSkew(Text):\n",
    "    count = 0\n",
    "    skew =[]\n",
    "    skew.append(count)\n",
    "    for i in range(len(Text)):\n",
    "        if Text[i] == \"A\" or Text[i] == \"T\":\n",
    "            skew.append(count)\n",
    "            continue\n",
    "        elif Text[i] == \"G\":\n",
    "            count += 1\n",
    "        elif Text[i] == \"C\":\n",
    "            count -= 1\n",
    "        skew.append(count)\n",
    "    \n",
    "    min_val = min(skew)\n",
    "    for i in range(len(skew)):\n",
    "        if skew[i] == min_val:\n",
    "            print(i, end=\" \")\n",
    "            \n",
    "Text = input(\"Enter the genome: \") #CCTATCGGTGGATTAGCATGTCCCTGTACGTTTCGCCGCGAACTAGTTCACACGGCTTGATGGCAAATGGTTTTTCCGGCGACCGTAATCGTCCACCGAG\n",
    "result= minSkew(Text) #53 97"
   ]
  },
  {
   "cell_type": "markdown",
   "metadata": {},
   "source": [
    "### BA1G: Compute the Hamming Distance Between Two Strings"
   ]
  },
  {
   "cell_type": "code",
   "execution_count": 9,
   "metadata": {},
   "outputs": [
    {
     "name": "stdout",
     "output_type": "stream",
     "text": [
      "3\n"
     ]
    }
   ],
   "source": [
    "def hammingDistance(String1, String2):\n",
    "    count = 0\n",
    "    for i in range(len(String1)):\n",
    "        if String1[i] != String2[i]:\n",
    "            count +=1\n",
    "    return count\n",
    "\n",
    "String1 = input() #GGGCCGTTGGT\n",
    "String2 = input() #GGACCGTTGAC\n",
    "result = hammingDistance(String1, String2) # 3\n",
    "print(result)"
   ]
  },
  {
   "cell_type": "markdown",
   "metadata": {},
   "source": [
    "### BA1H: Find All Approximate Occurrences of a Pattern in a String"
   ]
  },
  {
   "cell_type": "code",
   "execution_count": 10,
   "metadata": {},
   "outputs": [
    {
     "name": "stdout",
     "output_type": "stream",
     "text": [
      "6 7 26 27 78 "
     ]
    }
   ],
   "source": [
    "def hamming_distance(pattern, text):\n",
    "    mismatch_count = 0\n",
    "\n",
    "    for i in range(len(text)):  \n",
    "        if text[i] != pattern[i]:\n",
    "            mismatch_count += 1\n",
    "    return mismatch_count\n",
    "\n",
    "def ApproximatePatternMatching(pattern, text, d):\n",
    "    k = len(pattern)\n",
    "    positions = []\n",
    "    for i in range(len(text)-k):\n",
    "        if hamming_distance(text[i:i+k], pattern) <= d:\n",
    "            positions.append(i)\n",
    "            print(i, end=\" \")\n",
    "\n",
    "pattern = input() #ATTCTGGA\n",
    "text = input() #CGCCCGAATCCAGAACGCATTCCCATATTTCGGGACCACTGGCCTCCACGGTACGGACGTCAATCAAATGCCTAGCGGCTTGTGGTTTCTCCTACGCTCC\n",
    "d = int(input()) #3\n",
    "ApproximatePatternMatching(pattern, text, d) #6 7 26 27 78"
   ]
  }
 ],
 "metadata": {
  "kernelspec": {
   "display_name": "Python 3.10.8 64-bit (microsoft store)",
   "language": "python",
   "name": "python3"
  },
  "language_info": {
   "codemirror_mode": {
    "name": "ipython",
    "version": 3
   },
   "file_extension": ".py",
   "mimetype": "text/x-python",
   "name": "python",
   "nbconvert_exporter": "python",
   "pygments_lexer": "ipython3",
   "version": "3.10.9 (tags/v3.10.9:1dd9be6, Dec  6 2022, 20:01:21) [MSC v.1934 64 bit (AMD64)]"
  },
  "orig_nbformat": 4,
  "vscode": {
   "interpreter": {
    "hash": "486e0d5a79acdbfffd563ee7a67a93a5017bd2a4f66495483a69f0245c8a4a6c"
   }
  }
 },
 "nbformat": 4,
 "nbformat_minor": 2
}
