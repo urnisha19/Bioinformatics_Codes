{
 "cells": [
  {
   "cell_type": "markdown",
   "metadata": {},
   "source": [
    "# Basic Python"
   ]
  },
  {
   "cell_type": "markdown",
   "metadata": {},
   "source": [
    "Data type\n"
   ]
  },
  {
   "cell_type": "code",
   "execution_count": null,
   "metadata": {},
   "outputs": [],
   "source": [
    "x = 5\n",
    "print(type(x))\n",
    "\n",
    "y = \"Hello\"\n",
    "print(type(y))"
   ]
  },
  {
   "cell_type": "markdown",
   "metadata": {},
   "source": [
    "Input\n"
   ]
  },
  {
   "cell_type": "code",
   "execution_count": null,
   "metadata": {},
   "outputs": [],
   "source": [
    "x = input(\"Enter number: \")\n",
    "print(x)"
   ]
  },
  {
   "cell_type": "markdown",
   "metadata": {},
   "source": [
    "Loop\n"
   ]
  },
  {
   "cell_type": "code",
   "execution_count": null,
   "metadata": {},
   "outputs": [],
   "source": [
    "for i in range(2, 3):\n",
    "    print(i)"
   ]
  },
  {
   "cell_type": "markdown",
   "metadata": {},
   "source": [
    "List\n"
   ]
  },
  {
   "cell_type": "code",
   "execution_count": null,
   "metadata": {},
   "outputs": [],
   "source": [
    "list = ['a', 'b', 'c']\n",
    "print(list)"
   ]
  },
  {
   "cell_type": "markdown",
   "metadata": {},
   "source": [
    "Dictionary\n"
   ]
  },
  {
   "cell_type": "code",
   "execution_count": null,
   "metadata": {},
   "outputs": [],
   "source": [
    "identity = {'Name': 'Ajwad', 'Age': '21', 'Job': 'Student'}"
   ]
  },
  {
   "cell_type": "markdown",
   "metadata": {},
   "source": [
    "String Slicing\n"
   ]
  },
  {
   "cell_type": "code",
   "execution_count": null,
   "metadata": {},
   "outputs": [],
   "source": [
    "x = 'Hello'\n",
    "print(x[2:5])  # slice from position 2 to 5"
   ]
  },
  {
   "cell_type": "markdown",
   "metadata": {},
   "source": [
    "# Rosalind Problems Solution"
   ]
  },
  {
   "cell_type": "markdown",
   "metadata": {},
   "source": [
    "BA1A: Compute the Number of Times a Pattern Appears in a Text\n"
   ]
  },
  {
   "cell_type": "code",
   "execution_count": null,
   "metadata": {},
   "outputs": [],
   "source": [
    "def PatternCount(Text, Pattern):\n",
    "    count = 0\n",
    "    for i in range(len(Text) - len(Pattern) + 1):\n",
    "        if Text[i:i + len(Pattern)] == Pattern:\n",
    "            count = count + 1\n",
    "    return count\n",
    "\n",
    "Text = input()\n",
    "Pattern = input()\n",
    "result = PatternCount(Text, Pattern)\n",
    "\n",
    "print(result)"
   ]
  },
  {
   "cell_type": "markdown",
   "metadata": {},
   "source": [
    "BA1B: Find the Most Frequent Words in a String\n"
   ]
  },
  {
   "cell_type": "code",
   "execution_count": null,
   "metadata": {},
   "outputs": [],
   "source": [
    "# most frequent words in a string\n",
    "def MostFrequentWords(Text, k):\n",
    "    wordDict = {}  # dictionary => key, value; here k-mer : value\n",
    "    finResult = []\n",
    "    maxAppearance = 0  # maximum value of k mer\n",
    "\n",
    "    for i in range(len(Text) - int(k) + 1):  # kun range porjonto check kore\n",
    "        currentWord = Text[i:i + int(k)]  # slice\n",
    "\n",
    "        if currentWord in wordDict:  # current word as key\n",
    "            wordDict[currentWord] += 1  # dictionary te current word age takle\n",
    "        else:\n",
    "            # dictionary te current word age na takle\n",
    "            wordDict[currentWord] = 1\n",
    "\n",
    "    for key, value in wordDict.items():\n",
    "        if value > maxAppearance:  # initially maxAppearance=0. jodi kunu value maxAppearance theke besi hoy tahole maxAppearance value update hobe\n",
    "            maxAppearance = value\n",
    "\n",
    "    for key, value in wordDict.items():\n",
    "        if value == maxAppearance:\n",
    "            # maxAppearance value joto hobe sei key gulo list e add hobe\n",
    "            finResult.append(key)\n",
    "\n",
    "    return \" \".join(finResult)  # list ke string e convert\n",
    "\n",
    "Text = input('Input text: ')\n",
    "nMer = input('n-mer, n:')\n",
    "\n",
    "result = MostFrequentWords(Text, nMer)\n",
    "print(result)\n"
   ]
  },
  {
   "cell_type": "markdown",
   "metadata": {},
   "source": [
    "BA1C: Find the Reverse Complement of a String\n"
   ]
  },
  {
   "cell_type": "code",
   "execution_count": null,
   "metadata": {},
   "outputs": [],
   "source": [
    "# reverse complement of a string\n",
    "def ReverseComplement(Text):\n",
    "    finalText = ''\n",
    "    for c in reversed(Text):  # Reverse given text\n",
    "\n",
    "      # complement reversed text\n",
    "        if c == 'A':\n",
    "            finalText += 'T'\n",
    "\n",
    "        elif c == 'T':\n",
    "            finalText += 'A'\n",
    "\n",
    "        elif c == 'G':\n",
    "            finalText += 'C'\n",
    "\n",
    "        else:\n",
    "            finalText += 'G'\n",
    "\n",
    "    return finalText\n",
    "\n",
    "Text = input()\n",
    "result = ReverseComplement(Text)"
   ]
  },
  {
   "cell_type": "markdown",
   "metadata": {},
   "source": [
    "BA1D: Find All Occurrences of a Pattern in a String/ PatternMatching\n"
   ]
  },
  {
   "cell_type": "code",
   "execution_count": null,
   "metadata": {},
   "outputs": [],
   "source": [
    "def PatternMatching(Pattern, Genome):\n",
    "    positions = []\n",
    "    for i in range(len(Genome) - len(Pattern) + 1):\n",
    "        if Genome[i:i + len(Pattern)] == Pattern:\n",
    "            positions.append(i)\n",
    "            matching_pos = print(i, end=\" \")\n",
    "    return (matching_pos)\n",
    "\n",
    "Pattern = input()\n",
    "Genome = input()\n",
    "PatternMatching(Pattern, Genome)"
   ]
  },
  {
   "cell_type": "markdown",
   "metadata": {},
   "source": [
    "BA1E: Find Patterns Forming Clumps in a String"
   ]
  },
  {
   "cell_type": "code",
   "execution_count": null,
   "metadata": {},
   "outputs": [],
   "source": [
    "def clump_finding(genome, k, L, t):\n",
    "    pattern_forming_clump = []\n",
    "    genome_length = len(genome)\n",
    "\n",
    "    for i in range(genome_length-L+1):  # dividing a genome into L window\n",
    "        for j in range(i, i+L-k):  # finding all k-mer in an L window\n",
    "            # 1ta window te 1ta k-mer jodi t theke besi or soman bar appear hoy. i for window, j for k-mer\n",
    "            if genome[i:i+L].count(genome[j:j+k]) >= t:\n",
    "                pattern_forming_clump.append(genome[j:j+k])   \n",
    "                \n",
    "    # list(set()) function is used to remove duplicates pattern_forming_clump in different window\n",
    "    pattern_forming_clump = list(set(pattern_forming_clump))\n",
    "    return pattern_forming_clump\n",
    "\n",
    "genome = input()\n",
    "k = int(input())\n",
    "L = int(input())\n",
    "t = int(input())\n",
    "\n",
    "result = clump_finding(genome, k, L, t)\n",
    "print(\" \".join(result))  # convert a list to a string"
   ]
  },
  {
   "cell_type": "markdown",
   "metadata": {},
   "source": [
    "BA1F: Find a Position in a Genome Minimizing the Skew\n"
   ]
  },
  {
   "cell_type": "code",
   "execution_count": null,
   "metadata": {},
   "outputs": [],
   "source": [
    "def skew(genome):\n",
    "    count = 0  # ACGT egulor skew count\n",
    "    count_list = []  # je genome dewa ache setar kun index er skew koto\n",
    "    ans_list = []  # min skew je position e ache egulo ei list e rakbo\n",
    "\n",
    "    for i in genome:\n",
    "        if i == 'C':\n",
    "            count -= 1\n",
    "        elif i == \"G\":\n",
    "            count += 1\n",
    "        count_list.append(count)\n",
    "\n",
    "    min_skew = min(count_list)  # count list e min skew koto ta ber\n",
    "    # print(min_skew)\n",
    "\n",
    "    index = 0  # min skew kun index e ache ber korar jonno initially 0 th index theke shuru\n",
    "    for i in count_list:\n",
    "        index += 1\n",
    "        if i == min_skew:  # jodi i th index er value min skew er soman hoy tobe oi index ans_list e append korbo\n",
    "            ans_list.append(index)\n",
    "    print(*ans_list)  # list er age * diye string e convert\n",
    "\n",
    "genome = input()\n",
    "result = skew(genome)"
   ]
  },
  {
   "cell_type": "markdown",
   "metadata": {},
   "source": [
    "BA1G: Compute the Hamming Distance Between Two Strings\n"
   ]
  },
  {
   "cell_type": "code",
   "execution_count": null,
   "metadata": {},
   "outputs": [],
   "source": [
    "def hamming_distance(string1, string2):\n",
    "    mismatch_count = 0\n",
    "\n",
    "    for i in range(len(string1)):  # loop through string 1\n",
    "        # if i th element of string 1 does not match with i th element of string2\n",
    "        if string1[i] != string2[i]:\n",
    "            mismatch_count += 1\n",
    "    return mismatch_count\n",
    "\n",
    "string1 = input()\n",
    "string2 = input()\n",
    "\n",
    "result = hamming_distance(string1, string2)\n",
    "print(result)"
   ]
  },
  {
   "cell_type": "markdown",
   "metadata": {},
   "source": [
    "BA1H: Find All Approximate Occurrences of a Pattern in a String "
   ]
  },
  {
   "cell_type": "code",
   "execution_count": null,
   "metadata": {},
   "outputs": [],
   "source": [
    "#Return: All starting positions where Pattern appears as a substring of Text with at most d mismatches.\n",
    "def hamming_distance(pattern, text):\n",
    "    mismatch_count = 0\n",
    "\n",
    "    for i in range(len(text)):  # loop through string 1\n",
    "        # if i th element of string 1 does not match with i th element of string2\n",
    "        if text[i] != pattern[i]:\n",
    "            mismatch_count += 1\n",
    "    return mismatch_count\n",
    "\n",
    "def ApproximatePatternMatching(pattern,text,d):\n",
    "  k = len(pattern)\n",
    "  positions =  []\n",
    "  for i in range(len(text)-k):\n",
    "    if hamming_distance(text[i:i+k],pattern) <= d:\n",
    "      positions.append(i)\n",
    "      print(i, end=\" \")\n",
    "\n",
    "pattern = input()\n",
    "text = input()\n",
    "d = int(input())\n",
    "ApproximatePatternMatching(pattern, text, d)"
   ]
  },
  {
   "cell_type": "markdown",
   "metadata": {},
   "source": [
    "BA1I: Find the Most Frequent Words with Mismatches in a String\n"
   ]
  },
  {
   "cell_type": "code",
   "execution_count": null,
   "metadata": {},
   "outputs": [],
   "source": [
    "maxAppearance = 0\n",
    "\n",
    "# Counting the hamming_distance when a permutation pattern is compared to a k-mer from the text\n",
    "def hamming_distance(permutation_pattern, text_k_mer_pattern):\n",
    "    mismatch_count = 0\n",
    "\n",
    "    for i in range(len(text_k_mer_pattern)):  # loop through the k_mer_patterns from text\n",
    "      \n",
    "        # if i th element of the current k_mer_pattern does not match with i th element of current permutation_pattern\n",
    "        if text_k_mer_pattern[i] != permutation_pattern[i]:\n",
    "            mismatch_count += 1\n",
    "    return mismatch_count\n",
    "\n",
    "# Finding the all possible combination of k-mer with the nucleotides[A C G T]\n",
    "def kmers_with_nucleotides(k):\n",
    "    nucleotides = ['A','C','T','G']\n",
    "    permutation_list = [[]]\n",
    "    groups = [nucleotides] * k # make a list of \"nucleotides list\" k times to make permutation\n",
    "    # print(groups)\n",
    "    \n",
    "    for i in groups:\n",
    "        permutation_list = [x+[y] for x in permutation_list for y in i]  \n",
    "        \n",
    "    #print(permutation_list)\n",
    "    permutations = [''.join(item) for item in permutation_list] #permutation list e prottekta item arekta list hisebe ase. item gulo string e convert\n",
    "    return permutations\n",
    "\n",
    "# Finding most FrequentWords_Mismatches\n",
    "def FrequentWords_Mismatches(text, k, d):\n",
    "    all_kmers_with_nucleotides = kmers_with_nucleotides(k)\n",
    "    all_kmers_with_mismatches = {} # prottekta k-mer 1ta dictionary te rakhbo jekane key hobe k-mer and value hobe koto bar ache tar count\n",
    "    listOf_Most_FrequentWords_Mismatches = []\n",
    "    for current_k_mer_pattern in all_kmers_with_nucleotides:\n",
    "        occurrence = 0\n",
    "        for i in range(len(text)-k+1):\n",
    "            if hamming_distance(current_k_mer_pattern, text[i:i+k]) <= d:\n",
    "                occurrence += 1\n",
    "        all_kmers_with_mismatches[current_k_mer_pattern] =  occurrence\n",
    "        \n",
    "    max_value = max(all_kmers_with_mismatches.items(), key=lambda x: x[1]) \n",
    "    \"\"\"the inline function lambda x: x[1] is defined as a value of the key parameter. \n",
    "    max function ei dictionary theke key parameter er highest value ber korbe \"\"\"\n",
    "    \n",
    "    for key, value in all_kmers_with_mismatches.items():\n",
    "        if value == max_value[1]:\n",
    "            listOf_Most_FrequentWords_Mismatches.append(key)\n",
    "    return \" \".join(listOf_Most_FrequentWords_Mismatches) # convert to list to string\n",
    "\n",
    "Text = 'ACGTTGCATGTCGCATGATGCATGAGAGCT'\n",
    "k_mer = 4\n",
    "mismatch= 1\n",
    "\n",
    "result = FrequentWords_Mismatches(Text, k_mer, mismatch)\n",
    "print(result)"
   ]
  }
 ],
 "metadata": {
  "kernelspec": {
   "display_name": "Python 3.10.6 64-bit",
   "language": "python",
   "name": "python3"
  },
  "language_info": {
   "codemirror_mode": {
    "name": "ipython",
    "version": 3
   },
   "file_extension": ".py",
   "mimetype": "text/x-python",
   "name": "python",
   "nbconvert_exporter": "python",
   "pygments_lexer": "ipython3",
   "version": "3.10.6"
  },
  "orig_nbformat": 4,
  "vscode": {
   "interpreter": {
    "hash": "a9cff5a362bc38ef45d817ae74b1af54d6a076e3d773891282bce078b815ba34"
   }
  }
 },
 "nbformat": 4,
 "nbformat_minor": 2
}
