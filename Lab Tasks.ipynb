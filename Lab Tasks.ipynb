{
 "cells": [
  {
   "cell_type": "markdown",
   "metadata": {},
   "source": [
    "# Basic Python\n"
   ]
  },
  {
   "cell_type": "markdown",
   "metadata": {},
   "source": [
    "Data type\n"
   ]
  },
  {
   "cell_type": "code",
   "execution_count": null,
   "metadata": {},
   "outputs": [],
   "source": [
    "x = 5\n",
    "print(type(x))\n",
    "\n",
    "y = \"Hello\"\n",
    "print(type(y))"
   ]
  },
  {
   "cell_type": "markdown",
   "metadata": {},
   "source": [
    "Input\n"
   ]
  },
  {
   "cell_type": "code",
   "execution_count": null,
   "metadata": {},
   "outputs": [],
   "source": [
    "x = input(\"Enter number: \")\n",
    "print(x)"
   ]
  },
  {
   "cell_type": "markdown",
   "metadata": {},
   "source": [
    "Loop\n"
   ]
  },
  {
   "cell_type": "code",
   "execution_count": null,
   "metadata": {},
   "outputs": [],
   "source": [
    "for i in range(2, 3):\n",
    "    print(i)"
   ]
  },
  {
   "cell_type": "markdown",
   "metadata": {},
   "source": [
    "List\n"
   ]
  },
  {
   "cell_type": "code",
   "execution_count": null,
   "metadata": {},
   "outputs": [],
   "source": [
    "list = ['a', 'b', 'c']\n",
    "print(list)"
   ]
  },
  {
   "cell_type": "markdown",
   "metadata": {},
   "source": [
    "Dictionary\n"
   ]
  },
  {
   "cell_type": "code",
   "execution_count": null,
   "metadata": {},
   "outputs": [],
   "source": [
    "identity = {'Name': 'Ajwad', 'Age': '21', 'Job': 'Student'}"
   ]
  },
  {
   "cell_type": "markdown",
   "metadata": {},
   "source": [
    "String Slicing\n"
   ]
  },
  {
   "cell_type": "code",
   "execution_count": null,
   "metadata": {},
   "outputs": [],
   "source": [
    "x = 'Hello'\n",
    "print(x[2:5])  # slice from position 2 to 5"
   ]
  },
  {
   "cell_type": "markdown",
   "metadata": {},
   "source": [
    "# Rosalind Problems Solution\n"
   ]
  },
  {
   "cell_type": "markdown",
   "metadata": {},
   "source": [
    "BA1A: Compute the Number of Times a Pattern Appears in a Text"
   ]
  },
  {
   "cell_type": "code",
   "execution_count": null,
   "metadata": {},
   "outputs": [],
   "source": [
    "def PatternCount(Text, Pattern):\n",
    "    count = 0\n",
    "    for i in range(len(Text) - len(Pattern) + 1):\n",
    "        Text_patterns = Text[i:i + len(Pattern)]\n",
    "        if Text_patterns == Pattern:\n",
    "            count = count + 1\n",
    "    return count\n",
    "\n",
    "Text = input(\"Text: \") #CGATATATCCATAG\n",
    "Pattern = input(\"Pattern: \") #ATA\n",
    "result = PatternCount(Text, Pattern) #3\n",
    "print(result)"
   ]
  },
  {
   "cell_type": "markdown",
   "metadata": {},
   "source": [
    "BA1B: Find the Most Frequent Words in a String\n"
   ]
  },
  {
   "cell_type": "code",
   "execution_count": null,
   "metadata": {},
   "outputs": [],
   "source": [
    "def FrequentWord(Text, k):\n",
    "    pattern_dict = {} #creating a dictionary to store patters as key and appearance time as value\n",
    "    \n",
    "    for i in range(len(Text)-k+1):\n",
    "        pattern = Text[i:i+k] #all text ke k-mer e slice\n",
    "        if pattern in pattern_dict:\n",
    "            pattern_dict[pattern] += 1 #if pattern already present in dictionary then add 1 with it\n",
    "        else:\n",
    "            pattern_dict[pattern] = 1  #if not then put 1 in the value\n",
    "            \n",
    "    max_value = max(pattern_dict.values())  #a pattern maximum appearance value\n",
    "    max_pattern = [key for key, value in pattern_dict.items() if value == max_value] #getting all keys(pattern) with max value\n",
    "    return \" \".join(max_pattern)\n",
    "        \n",
    "Text_input= input(\"Text: \") #ACGTTGCATGTCGCATGATGCATGAGAGCT\n",
    "Text = Text_input.upper()\n",
    "k = int(input(\"K-mer k: \")) #4\n",
    "FrequentWord(Text, k) #GCAT CATG"
   ]
  },
  {
   "cell_type": "markdown",
   "metadata": {},
   "source": [
    "BA1C: Find the Reverse Complement of a String\n"
   ]
  },
  {
   "cell_type": "code",
   "execution_count": null,
   "metadata": {},
   "outputs": [],
   "source": [
    "def ReverseComplement(Text):\n",
    "    complimentString = ''\n",
    "    \n",
    "    for i in Text:  #Compliment\n",
    "        if i == 'A':\n",
    "            complimentString += 'T'\n",
    "        elif i == 'T':\n",
    "            complimentString += 'A'\n",
    "        elif i == 'G':\n",
    "            complimentString += 'C'\n",
    "        else:\n",
    "            complimentString += 'G'\n",
    "    reversedCompliment = complimentString[::-1] #reverse complement\n",
    "    return reversedCompliment\n",
    "\n",
    "Text = input() #AAAACCCGGT\n",
    "result = ReverseComplement(Text) #ACCGGGTTTT\n",
    "print(result)"
   ]
  },
  {
   "cell_type": "markdown",
   "metadata": {},
   "source": [
    "BA1D: Find All Occurrences of a Pattern in a String/ PatternMatching"
   ]
  },
  {
   "cell_type": "code",
   "execution_count": null,
   "metadata": {},
   "outputs": [],
   "source": [
    "def PatternMatching(Pattern, Genome):\n",
    "    for i in range(len(Genome) - len(Pattern) + 1):\n",
    "        if Genome[i:i + len(Pattern)] == Pattern:\n",
    "            print(i, end=\" \")\n",
    "\n",
    "Pattern = input() #ATAT\n",
    "Genome = input() #GATATATGCATATACTT\n",
    "PatternMatching(Pattern, Genome) # 1 3 9"
   ]
  },
  {
   "cell_type": "markdown",
   "metadata": {},
   "source": [
    "BA1E: Find Patterns Forming Clumps in a String\n"
   ]
  },
  {
   "cell_type": "code",
   "execution_count": null,
   "metadata": {},
   "outputs": [],
   "source": [
    "def clump_finding(genome, k, L, t):\n",
    "    pattern_forming_clump = []\n",
    "    \n",
    "    for i in range(len(genome)-L+1):  # dividing a genome into L window\n",
    "        for j in range(i, i+L-k):  # finding all k-mer in an L window\n",
    "            if genome[i:i+L].count(genome[j:j+k]) >= t:   # 1ta window te 1ta k-mer jodi t theke besi or soman bar appear hoy. i for window, j for k-mer\n",
    "                pattern_forming_clump.append(genome[j:j+k])         \n",
    "    pattern_forming_clump = list(set(pattern_forming_clump))# list(set()) function is used to remove duplicates pattern_forming_clump in different window\n",
    "    return pattern_forming_clump\n",
    "\n",
    "genome = input() #CGGACTCGACAGATGTGAAGAAATGTGAAGACTGAGTGAAGAGAAGAGGAAACACGACACGACATTGCGACATAATGTACGAATGTAATGTGCCTATGGC\n",
    "k = int(input()) #5\n",
    "L = int(input()) #75\n",
    "t = int(input()) #4\n",
    "result = clump_finding(genome, k, L, t) #CGACA GAAGA AATGT\n",
    "print(\" \".join(result))  # convert a list to a string"
   ]
  },
  {
   "cell_type": "markdown",
   "metadata": {},
   "source": [
    "BA1F: Find a Position in a Genome Minimizing the Skew\n"
   ]
  },
  {
   "cell_type": "code",
   "execution_count": null,
   "metadata": {},
   "outputs": [],
   "source": [
    "def minSkew(genome):\n",
    "  count = 0\n",
    "  skewCountList = []\n",
    "  skewCountList.append(count) # initial value 0\n",
    "  \n",
    "  for i in range(len(genome)):\n",
    "    if genome[i] == 'T' or genome[i] == 'A':\n",
    "      skewCountList.append(count)\n",
    "      continue\n",
    "    elif genome[i] == 'G':\n",
    "          count+=1\n",
    "    elif genome[i] == 'C':\n",
    "          count-=1\n",
    "    skewCountList.append(count)\n",
    "    #print(skewCountList)\n",
    "  min_val = min(skewCountList) # count list e min skew koto ta ber\n",
    "  \n",
    "  for i in range(len(skewCountList)):\n",
    "    if skewCountList[i] == min_val:\n",
    "      print(i, end = \" \") # printing all the index of the minimum value\n",
    "\n",
    "genome = input(\"Enter the genome: \") #CCTATCGGTGGATTAGCATGTCCCTGTACGTTTCGCCGCGAACTAGTTCACACGGCTTGATGGCAAATGGTTTTTCCGGCGACCGTAATCGTCCACCGAG\n",
    "genome = genome.upper()\n",
    "minSkew(genome) #53 97"
   ]
  },
  {
   "cell_type": "markdown",
   "metadata": {},
   "source": [
    "BA1G: Compute the Hamming Distance Between Two Strings\n"
   ]
  },
  {
   "cell_type": "code",
   "execution_count": null,
   "metadata": {},
   "outputs": [],
   "source": [
    "def hamming_distance(string1, string2):\n",
    "    mismatch_count = 0\n",
    "\n",
    "    for i in range(len(string1)):  # loop through string 1\n",
    "        # if i th element of string 1 does not match with i th element of string2\n",
    "        if string1[i] != string2[i]:\n",
    "            mismatch_count += 1\n",
    "    return mismatch_count\n",
    "\n",
    "string1 = input() #GGGCCGTTGGT\n",
    "string2 = input() #GGACCGTTGAC\n",
    "\n",
    "result = hamming_distance(string1, string2) #3\n",
    "print(result)"
   ]
  },
  {
   "cell_type": "markdown",
   "metadata": {},
   "source": [
    "BA1H: Find All Approximate Occurrences of a Pattern in a String\n"
   ]
  },
  {
   "cell_type": "markdown",
   "metadata": {},
   "source": [
    "Return: All starting positions where Pattern appears as a substring of Text with at most d mismatches."
   ]
  },
  {
   "cell_type": "code",
   "execution_count": null,
   "metadata": {},
   "outputs": [],
   "source": [
    "def hamming_distance(pattern, text):\n",
    "    mismatch_count = 0\n",
    "\n",
    "    for i in range(len(text)):  # loop through string 1\n",
    "        # if i th element of string 1 does not match with i th element of string2\n",
    "        if text[i] != pattern[i]:\n",
    "            mismatch_count += 1\n",
    "    return mismatch_count\n",
    "\n",
    "def ApproximatePatternMatching(pattern, text, d):\n",
    "    k = len(pattern)\n",
    "    positions = []\n",
    "    for i in range(len(text)-k):\n",
    "        if hamming_distance(text[i:i+k], pattern) <= d:\n",
    "            positions.append(i)\n",
    "            print(i, end=\" \")\n",
    "\n",
    "pattern = input() #ATTCTGGA\n",
    "text = input() #CGCCCGAATCCAGAACGCATTCCCATATTTCGGGACCACTGGCCTCCACGGTACGGACGTCAATCAAATGCCTAGCGGCTTGTGGTTTCTCCTACGCTCC\n",
    "d = int(input()) #3\n",
    "ApproximatePatternMatching(pattern, text, d) #6 7 26 27 78"
   ]
  },
  {
   "cell_type": "markdown",
   "metadata": {},
   "source": [
    "BA1I: Find the Most Frequent Words with Mismatches in a String\n"
   ]
  },
  {
   "cell_type": "code",
   "execution_count": null,
   "metadata": {},
   "outputs": [],
   "source": [
    "maxAppearance = 0\n",
    "\n",
    "# Counting the hamming_distance when a permutation pattern is compared to a k-mer from the text\n",
    "def hamming_distance(permutation_pattern, text_k_mer_pattern):\n",
    "    mismatch_count = 0\n",
    "    for i in range(len(text_k_mer_pattern)):  # loop through the k_mer_patterns from text\n",
    "        if text_k_mer_pattern[i] != permutation_pattern[i]: # if i th element of the current k_mer_pattern does not match with i th element of current permutation_pattern\n",
    "            mismatch_count += 1\n",
    "    return mismatch_count\n",
    "\n",
    "\n",
    "# Finding the all possible combination of k-mer with the nucleotides[A C G T]\n",
    "def kmers_with_nucleotides(k):\n",
    "    nucleotides = ['A', 'C', 'T', 'G']\n",
    "    permutation_list = [[]]\n",
    "    groups = [nucleotides] * k   # make a list of \"nucleotides list\" k times to make permutation\n",
    "    # print(groups)\n",
    "    for i in groups:\n",
    "        permutation_list = [x+[y] for x in permutation_list for y in i]\n",
    "    # print(permutation_list)\n",
    "    permutations = [''.join(item) for item in permutation_list] # permutation list e prottekta item arekta list hisebe ase. item gulo string e convert\n",
    "    return permutations\n",
    "\n",
    "\n",
    "# Finding most FrequentWords_Mismatches\n",
    "def FrequentWords_Mismatches(text, k, d):\n",
    "    all_kmers_with_nucleotides = kmers_with_nucleotides(k)\n",
    "    all_kmers_with_mismatches = {} # prottekta k-mer 1ta dictionary te rakhbo jekane key hobe k-mer and value hobe koto bar ache tar count\n",
    "    listOf_Most_FrequentWords_Mismatches = []\n",
    "    for current_k_mer_pattern in all_kmers_with_nucleotides:\n",
    "        occurrence = 0\n",
    "        for i in range(len(text)-k+1):\n",
    "            if hamming_distance(current_k_mer_pattern, text[i:i+k]) <= d:\n",
    "                occurrence += 1\n",
    "        all_kmers_with_mismatches[current_k_mer_pattern] = occurrence\n",
    "    max_value = max(all_kmers_with_mismatches.items(), key=lambda x: x[1])\n",
    "  \n",
    "    \"\"\"the inline function lambda x: x[1] is defined as a value of the key parameter. \n",
    "    max function ei dictionary theke key parameter er highest value ber korbe \"\"\"\n",
    "\n",
    "    for key, value in all_kmers_with_mismatches.items():\n",
    "        if value == max_value[1]:\n",
    "            listOf_Most_FrequentWords_Mismatches.append(key)\n",
    "    # convert to list to string\n",
    "    return \" \".join(listOf_Most_FrequentWords_Mismatches)\n",
    "\n",
    "Text = input() #ACGTTGCATGTCGCATGATGCATGAGAGCT\n",
    "k_mer = int(input()) #4\n",
    "mismatch = int(input()) #1\n",
    "result = FrequentWords_Mismatches(Text, k_mer, mismatch) #GATG ATGC ATGT\n",
    "print(result)\n"
   ]
  }
 ],
 "metadata": {
  "kernelspec": {
   "display_name": "Python 3.10.6 64-bit",
   "language": "python",
   "name": "python3"
  },
  "language_info": {
   "codemirror_mode": {
    "name": "ipython",
    "version": 3
   },
   "file_extension": ".py",
   "mimetype": "text/x-python",
   "name": "python",
   "nbconvert_exporter": "python",
   "pygments_lexer": "ipython3",
   "version": "3.10.6 (tags/v3.10.6:9c7b4bd, Aug  1 2022, 21:53:49) [MSC v.1932 64 bit (AMD64)]"
  },
  "orig_nbformat": 4,
  "vscode": {
   "interpreter": {
    "hash": "a9cff5a362bc38ef45d817ae74b1af54d6a076e3d773891282bce078b815ba34"
   }
  }
 },
 "nbformat": 4,
 "nbformat_minor": 2
}
