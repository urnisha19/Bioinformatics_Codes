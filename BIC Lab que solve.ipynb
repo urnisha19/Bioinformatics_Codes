{
 "cells": [
  {
   "cell_type": "markdown",
   "metadata": {},
   "source": [
    "### Lab Final Set B\n"
   ]
  },
  {
   "cell_type": "code",
   "execution_count": 19,
   "metadata": {},
   "outputs": [
    {
     "name": "stdout",
     "output_type": "stream",
     "text": [
      "Hailey is unable to solve the riddle!\n"
     ]
    }
   ],
   "source": [
    "def Complement(Pattern):\n",
    "    complement = \"\"\n",
    "\n",
    "    for i in Pattern:\n",
    "        if i == \"A\":\n",
    "            complement += \"T\"\n",
    "        elif i == \"T\":\n",
    "            complement += \"A\"\n",
    "        elif i == \"C\":\n",
    "            complement += \"G\"\n",
    "        elif i == \"G\":\n",
    "            complement += \"C\"\n",
    "    #print(\"Pattern Complement: \",complement)\n",
    "    return complement\n",
    "\n",
    "\n",
    "def HammingDistance(Text, Pattern):\n",
    "    mismatch_count = 0\n",
    "\n",
    "    for i in range(len(Text)):\n",
    "        if Text[i] != Pattern[i]:\n",
    "            mismatch_count += 1\n",
    "    #print(\"Mismatch Count: \", mismatch_count)\n",
    "    return mismatch_count\n",
    "\n",
    "\n",
    "def PatternAppearance(Text, Pattern, d):\n",
    "    k = len(Pattern)\n",
    "    position = []\n",
    "\n",
    "    for i in range(len(Text)-k+1):\n",
    "        if HammingDistance(Text[i:i+k], Pattern) == d:\n",
    "            position.append(i)\n",
    "    #print(\"Positions with Mismatch: \",position)\n",
    "\n",
    "    if len(position) != 0:\n",
    "        ans_pattern = Complement(Pattern)\n",
    "        print(ans_pattern)\n",
    "    else:\n",
    "        print(\"Hailey is unable to solve the riddle!\")\n",
    "\n",
    "\n",
    "Pattern = input(\"Pattern: \")  # ATG\n",
    "Text = input(\"Text: \")  # ATCCCCTAG OR ATCCCCTGA\n",
    "d = int(input(\"d: \"))  # 1 or 2\n",
    "\n",
    "PatternAppearance(Text, Pattern, d)\n"
   ]
  },
  {
   "cell_type": "markdown",
   "metadata": {},
   "source": [
    "### Lab Final Set A\n"
   ]
  },
  {
   "cell_type": "code",
   "execution_count": 2,
   "metadata": {},
   "outputs": [
    {
     "name": "stdout",
     "output_type": "stream",
     "text": [
      "TGA\n"
     ]
    }
   ],
   "source": [
    "def FrequentWord(Text, k, t):\n",
    "    pattern_dict = {}\n",
    "\n",
    "    for i in range(len(Text)-k+1):\n",
    "        pattern = Text[i:i+k]\n",
    "        if pattern in pattern_dict:\n",
    "            pattern_dict[pattern] += 1\n",
    "        else:\n",
    "            pattern_dict[pattern] = 1\n",
    "    #print(pattern_dict)\n",
    "\n",
    "    # pattern that appears exactly t times\n",
    "    t_patterns_list = [key for key, value in pattern_dict.items() if value == t]\n",
    "    #print(t_patterns_list)\n",
    "\n",
    "    # convert t_pattern list to string\n",
    "    t_patterns_string = \" \".join(t_patterns_list)\n",
    "\n",
    "    # reverse the pattern\n",
    "    reverse_pattern = t_patterns_string[::-1]\n",
    "\n",
    "    if len(t_patterns_list) != 0:\n",
    "        print(reverse_pattern)\n",
    "    else:\n",
    "        print(\"Alas! I Lost the game.\")\n",
    "\n",
    "\n",
    "Text = input(\"Text: \")  # AGTCCGAGTGAGT or AACAGATACTACA\n",
    "k = int(input(\"k: \"))  # 3\n",
    "t = int(input(\"t \"))  # 3 or 6\n",
    "FrequentWord(Text, k, t)\n"
   ]
  }
 ],
 "metadata": {
  "kernelspec": {
   "display_name": "Python 3.10.8 64-bit (microsoft store)",
   "language": "python",
   "name": "python3"
  },
  "language_info": {
   "codemirror_mode": {
    "name": "ipython",
    "version": 3
   },
   "file_extension": ".py",
   "mimetype": "text/x-python",
   "name": "python",
   "nbconvert_exporter": "python",
   "pygments_lexer": "ipython3",
   "version": "3.10.9 (tags/v3.10.9:1dd9be6, Dec  6 2022, 20:01:21) [MSC v.1934 64 bit (AMD64)]"
  },
  "orig_nbformat": 4,
  "vscode": {
   "interpreter": {
    "hash": "486e0d5a79acdbfffd563ee7a67a93a5017bd2a4f66495483a69f0245c8a4a6c"
   }
  }
 },
 "nbformat": 4,
 "nbformat_minor": 2
}
